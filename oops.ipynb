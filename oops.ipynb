{
 "cells": [
  {
   "cell_type": "markdown",
   "id": "2b07e14e-3f0c-4788-b150-8586843a009a",
   "metadata": {},
   "source": [
    "#### OOPs PYTHON"
   ]
  },
  {
   "cell_type": "markdown",
   "id": "209869c9-3e66-445e-b0ff-db1e8e0c68fd",
   "metadata": {},
   "source": [
    "#### Constructor"
   ]
  },
  {
   "cell_type": "code",
   "execution_count": 3,
   "id": "51bc1438-01ee-4523-9417-11ccf23bda76",
   "metadata": {},
   "outputs": [],
   "source": [
    "class Test():\n",
    "    def __init__(self):\n",
    "        print(\"Consructor execution\")"
   ]
  },
  {
   "cell_type": "code",
   "execution_count": 5,
   "id": "78e0fb46-ee80-4202-a005-90f72dd4d874",
   "metadata": {},
   "outputs": [
    {
     "name": "stdout",
     "output_type": "stream",
     "text": [
      "Consructor execution\n",
      "Consructor execution\n"
     ]
    }
   ],
   "source": [
    "t=Test()\n",
    "t=Test()"
   ]
  },
  {
   "cell_type": "markdown",
   "id": "21e54f3e-fb79-42ef-9ae0-028f7be2e7ab",
   "metadata": {},
   "source": [
    "- OVER LOADED CONSTRUCTORS"
   ]
  },
  {
   "cell_type": "code",
   "execution_count": 6,
   "id": "efb68520-e6f9-4cac-b573-955cfc362788",
   "metadata": {},
   "outputs": [],
   "source": [
    "class Test:\n",
    "    def __init__(self):\n",
    "        print('no-arg')\n",
    "    def __init__(self,x):\n",
    "        print('one-arg')\n",
    "    def __init__(self,x,y):\n",
    "        print('Two-args')\n",
    "    def __init__(self,x,y,z):\n",
    "        print('Three-args')"
   ]
  },
  {
   "cell_type": "code",
   "execution_count": 10,
   "id": "3f641025-c1fb-4650-b161-18cc662051cf",
   "metadata": {},
   "outputs": [
    {
     "name": "stdout",
     "output_type": "stream",
     "text": [
      "Three-args\n"
     ]
    }
   ],
   "source": [
    "t1= Test(1,2,3)"
   ]
  },
  {
   "cell_type": "code",
   "execution_count": 12,
   "id": "4b082fca-da6e-4c99-9bfe-75fb1aac6307",
   "metadata": {},
   "outputs": [],
   "source": [
    "class Test:\n",
    "    def __init__(self):\n",
    "        print('no-arg')\n",
    "    def __init__(self,x):\n",
    "        print('one-arg')\n",
    "    def __init__(self,x,y):\n",
    "        print('Two-args')\n"
   ]
  },
  {
   "cell_type": "code",
   "execution_count": 15,
   "id": "0cca3b43-8a8a-44bb-811f-a450e430f446",
   "metadata": {},
   "outputs": [
    {
     "name": "stdout",
     "output_type": "stream",
     "text": [
      "Two-args\n"
     ]
    }
   ],
   "source": [
    "t = Test(20,20)"
   ]
  },
  {
   "cell_type": "code",
   "execution_count": 18,
   "id": "232a7442-2a99-4a81-ba88-eccffd956138",
   "metadata": {},
   "outputs": [
    {
     "name": "stdout",
     "output_type": "stream",
     "text": [
      "vishnu\n",
      "100\n"
     ]
    }
   ],
   "source": [
    "class Student:\n",
    "    def __init__(self,name,roll):\n",
    "        self.name=name\n",
    "        self.roll=roll\n",
    "      \n",
    "    def display(self):\n",
    "        print(self.name)\n",
    "        print(self.roll)\n",
    "obj=Student('vishnu',100)\n",
    "obj.display()"
   ]
  },
  {
   "cell_type": "code",
   "execution_count": 19,
   "id": "89412925-41de-4676-86d3-9a7eb7a4275c",
   "metadata": {},
   "outputs": [
    {
     "name": "stdout",
     "output_type": "stream",
     "text": [
      "vishnu\n",
      "100\n"
     ]
    }
   ],
   "source": [
    "class Student:\n",
    "    def __init__(self,name,roll):\n",
    "        self.name=name\n",
    "        self.roll=roll\n",
    "        self.display()\n",
    "    def display(self):\n",
    "        print(self.name)\n",
    "        print(self.roll)\n",
    "obj=Student('vishnu',100)\n"
   ]
  },
  {
   "cell_type": "markdown",
   "id": "448afea5-037d-4c52-96ac-40af8edfff50",
   "metadata": {},
   "source": [
    "## Difference Method and Constructor\n",
    "\n",
    "| Method | Constructor |--------------------------------------------- |--------------------------------------------------------------- | |1.The name can be anything. | 1.shoudl be __init__() | |2.Method will be executed if we | 2.will be executed automatically if we are creating object| |3.per object method can be called any no of times | 3.per object only once | |4.business logic | 4.to declare and initialize instance variables |\n",
    "\n",
    "- In python class allows[¶](about:blank#--In-python-class-allows)\\\n",
    "\n",
    "In python class 3 types of variables and 3 types of methods are allows\n",
    "\n",
    "### 3 Types of variables[¶](about:blank#3-Types-of-variables)\n",
    "\n",
    "1. Instance variables(object level variables)\n",
    "2. Static variables(class variables)\n",
    "3. Local variabels\n",
    "\n",
    "### 3 Type of  methods[¶](about:blank#3-Type-of-variables)\n",
    "\n",
    "1. Instance methods\n",
    "2. class methods\n",
    "3. Local methods"
   ]
  },
  {
   "cell_type": "code",
   "execution_count": 1,
   "id": "1aeeb13c-8d33-40f6-8def-3601c0456a9b",
   "metadata": {},
   "outputs": [
    {
     "name": "stdout",
     "output_type": "stream",
     "text": [
      "vver\n",
      "13\n",
      "local variable 10\n",
      "victor\n",
      "15\n",
      "local variable 10\n"
     ]
    }
   ],
   "source": [
    "#For INSTANCE VARIABLES\n",
    "class Student:\n",
    "    def __init__(self,name,roll):\n",
    "        self.name=name\n",
    "        self.roll=roll\n",
    "    def display(self):\n",
    "        a=10#local variable\n",
    "        print(self.name)\n",
    "        print(self.roll)\n",
    "        print('local variable',a) #printing local variable\n",
    "        \n",
    "obj1=Student('vver',13)\n",
    "obj2=Student('victor',15)\n",
    "obj1.display()\n",
    "obj2.display()"
   ]
  },
  {
   "cell_type": "code",
   "execution_count": 8,
   "id": "97303bc2-32d9-45e6-a2d1-00c01b1ba66a",
   "metadata": {},
   "outputs": [
    {
     "data": {
      "text/plain": [
       "'VAAG'"
      ]
     },
     "execution_count": 8,
     "metadata": {},
     "output_type": "execute_result"
    }
   ],
   "source": [
    "#For STATIC VARIABLES\n",
    "class Student:\n",
    "    cname='VAAG'#it will access by any object\n",
    "    def __init__(self,name,roll):\n",
    "        self.name=name\n",
    "        self.roll=roll\n",
    "    def display(self):\n",
    "        print(self.name)\n",
    "        print(self.roll)\n",
    "obj3=Student('vver',15)\n",
    "#obj3.cname # access with any object\n",
    "Student.cname #accesing with the class"
   ]
  },
  {
   "cell_type": "code",
   "execution_count": 21,
   "id": "eed97ff3-f050-49aa-abfb-cc6fbc826b02",
   "metadata": {},
   "outputs": [],
   "source": [
    "#For LOCAL VARIABLES\n",
    "class Student:\n",
    "    def __init__(self,name,roll):\n",
    "        count=0 #local variable\n",
    "        self.name=name\n",
    "        self.roll=roll\n",
    "    def display(self):\n",
    "        x=1 #local variables\n",
    "        print(self.name)\n",
    "        print(self.roll)\n",
    "        print(x)"
   ]
  },
  {
   "cell_type": "code",
   "execution_count": 22,
   "id": "0c628517-e20e-4d8c-937e-56c262dbdd8e",
   "metadata": {},
   "outputs": [],
   "source": [
    "obj = Student('vishnu',20)"
   ]
  },
  {
   "cell_type": "code",
   "execution_count": 23,
   "id": "de992f55-585a-44b5-b9b9-b6b4fc561026",
   "metadata": {},
   "outputs": [
    {
     "name": "stdout",
     "output_type": "stream",
     "text": [
      "vishnu\n",
      "20\n",
      "1\n"
     ]
    }
   ],
   "source": [
    "obj.display()"
   ]
  },
  {
   "cell_type": "markdown",
   "id": "2f4b4988-8d74-454a-bae6-5df9a5dbc04c",
   "metadata": {},
   "source": [
    "### Instance method\n",
    "1. method must having the self keyword using object realted data\n",
    "2. having the atleast one instance variable\n",
    "3. accesing the instance variables in a method is called Instance method"
   ]
  },
  {
   "cell_type": "code",
   "execution_count": 25,
   "id": "56bd3ae7-5cf8-46b3-bf65-77d70d927183",
   "metadata": {},
   "outputs": [
    {
     "name": "stdout",
     "output_type": "stream",
     "text": [
      "vver\n",
      "13\n"
     ]
    }
   ],
   "source": [
    "#For INSTANCE METHOD*)\n",
    "class Student:\n",
    "    def __init__(self,name,roll):\n",
    "        self.name=name\n",
    "        self.roll=roll\n",
    "    def display(self):\n",
    "        print(self.name)\n",
    "        print(self.roll)\n",
    "obj1=Student('vver',13)\n",
    "obj2=Student('victor',15)\n",
    "obj1.display()"
   ]
  },
  {
   "cell_type": "code",
   "execution_count": 35,
   "id": "7fca12e4-2892-4617-bada-9eb3a9178ef9",
   "metadata": {},
   "outputs": [
    {
     "name": "stdout",
     "output_type": "stream",
     "text": [
      "vaagdevi\n"
     ]
    },
    {
     "data": {
      "text/plain": [
       "'vaagdevi'"
      ]
     },
     "execution_count": 35,
     "metadata": {},
     "output_type": "execute_result"
    }
   ],
   "source": [
    "class Student:\n",
    "    cname='vaagdevi'\n",
    "    def __init__(self,name,roll):\n",
    "        self.name=name\n",
    "        self.roll=roll\n",
    "        self.get_col_name()\n",
    "    @classmethod\n",
    "    def get_col_name(cls):\n",
    "        print(cls.cname)\n",
    "obj1=Student('vver',13) \n",
    "obj1.cname\n",
    "#Student.get_col_name()"
   ]
  },
  {
   "cell_type": "code",
   "execution_count": 42,
   "id": "0551036a-3c35-42c1-a260-bfc83475268a",
   "metadata": {},
   "outputs": [
    {
     "name": "stdout",
     "output_type": "stream",
     "text": [
      "3\n",
      "7\n"
     ]
    }
   ],
   "source": [
    "class Student:\n",
    "    cname='vaagdevi'\n",
    "    def __init__(self,name,roll):\n",
    "        self.name=name\n",
    "        self.roll=roll\n",
    "        #self.get_col_name()\n",
    "\n",
    "    @classmethod\n",
    "    def get_col_name(cls):\n",
    "        print(cls.cname)\n",
    "        \n",
    "    @staticmethod\n",
    "    def avg(x,y):\n",
    "        print(x+y)\n",
    "obj1=Student('vver',13) \n",
    "obj1.avg(1,2)\n",
    "Student.avg(3,4)"
   ]
  },
  {
   "cell_type": "code",
   "execution_count": 47,
   "id": "876af423-afa8-4739-8e1d-f7258ed6cda0",
   "metadata": {},
   "outputs": [
    {
     "name": "stdout",
     "output_type": "stream",
     "text": [
      "7\n"
     ]
    }
   ],
   "source": [
    "class Student:\n",
    "    cname='vaagdevi'\n",
    "    def __init__(self,name,roll):\n",
    "        self.name=name\n",
    "        self.roll=roll\n",
    "        #self.get_col_name()\n",
    "\n",
    "    @classmethod\n",
    "    def get_col_name(cls):\n",
    "        print(cls.cname)\n",
    "        \n",
    "    @staticmethod ## acces with class and objectreference\n",
    "    def avg(x,y):\n",
    "        print(x+y)\n",
    "obj1=Student('vver',13)\n",
    "obj1.avg(3,4)"
   ]
  },
  {
   "cell_type": "markdown",
   "id": "c28051bd-1772-473f-bce7-68c4dc0d8cda",
   "metadata": {},
   "source": [
    "#### Instance Variables"
   ]
  },
  {
   "cell_type": "code",
   "execution_count": 52,
   "id": "a50615af-08ac-4a54-8f23-f0045bffcd6f",
   "metadata": {},
   "outputs": [],
   "source": [
    "class Student:\n",
    "    \n",
    "    def __init__(self,name,roll):\n",
    "        self.name=name\n",
    "        self.roll=roll\n",
    "        #self.get_col_name()\n",
    "obj = Student('vishnu',34)"
   ]
  },
  {
   "cell_type": "code",
   "execution_count": 67,
   "id": "74c3e7b6-9c85-4380-aa2a-713d7139268f",
   "metadata": {},
   "outputs": [],
   "source": [
    "class Student:\n",
    "    def __init__(self,name,roll):\n",
    "        #first way\n",
    "        self.name=name\n",
    "        self.roll=roll\n",
    "    def display(self):\n",
    "        #secondway\n",
    "        self.roll=34\n",
    "        self.ok=100\n",
    "        print(self.name)\n",
    "        print(self.roll)\n",
    "obj1=Student('vver',13)\n",
    "\n",
    "obj1.name='indhu' ## thrid way\n",
    "obj1.age=24 ## thrid way but we can create new varaible and value\n",
    "## same as above for everu object (obj2 ) there is a separate copy of data when we create for it.\n"
   ]
  },
  {
   "cell_type": "code",
   "execution_count": 68,
   "id": "904c1daa-f221-40f1-a472-db4a5ccdaee6",
   "metadata": {},
   "outputs": [
    {
     "data": {
      "text/plain": [
       "{'name': 'indhu', 'roll': 13, 'age': 24}"
      ]
     },
     "execution_count": 68,
     "metadata": {},
     "output_type": "execute_result"
    }
   ],
   "source": [
    "#obj1.display()\n",
    "obj1.__dict__"
   ]
  },
  {
   "cell_type": "code",
   "execution_count": 71,
   "id": "b8f629bb-c7e6-4263-b74e-56699c87f6b9",
   "metadata": {},
   "outputs": [
    {
     "name": "stdout",
     "output_type": "stream",
     "text": [
      "{}\n"
     ]
    }
   ],
   "source": [
    "#EXAMPLE FOR THE DELETING THE INSTANCE VARIABLES\n",
    "class Test:\n",
    "    def __init__(self):\n",
    "        self.a=10\n",
    "        self.b=11\n",
    "        self.c=12\n",
    "    def delete(self):\n",
    "        del self.b#within the class\n",
    "        del self.c\n",
    "t1=Test()\n",
    "t1.delete()\n",
    "del t1.a #outside of the class\n",
    "print(t1.__dict__)"
   ]
  },
  {
   "cell_type": "code",
   "execution_count": 38,
   "id": "775e8439-574f-4b3c-9758-7f6fc5fd9abc",
   "metadata": {},
   "outputs": [],
   "source": [
    "class Student:\n",
    "    x=10 #static variable\n",
    "    def __init__(self):\n",
    "        Student.col='vaag'\n",
    "        Student.branch='csd'\n",
    "        print(self.x)\n",
    "    def talk(self):\n",
    "        Student.marks= 20 #declare\n",
    "        print(self.x)\n",
    "    @classmethod\n",
    "    def play(cls):\n",
    "        print(cls.x)\n",
    "        print(cls.marks)"
   ]
  },
  {
   "cell_type": "code",
   "execution_count": 39,
   "id": "6908c292-7d3d-4ede-aac4-c40596955796",
   "metadata": {},
   "outputs": [
    {
     "name": "stdout",
     "output_type": "stream",
     "text": [
      "10\n"
     ]
    }
   ],
   "source": [
    "obj= Student()"
   ]
  },
  {
   "cell_type": "code",
   "execution_count": 40,
   "id": "7de5d9e0-cba7-4dd4-b89b-44fe935c8a9a",
   "metadata": {},
   "outputs": [
    {
     "name": "stdout",
     "output_type": "stream",
     "text": [
      "10\n"
     ]
    },
    {
     "ename": "AttributeError",
     "evalue": "type object 'Student' has no attribute 'marks'",
     "output_type": "error",
     "traceback": [
      "\u001b[0;31m---------------------------------------------------------------------------\u001b[0m",
      "\u001b[0;31mAttributeError\u001b[0m                            Traceback (most recent call last)",
      "Cell \u001b[0;32mIn[40], line 1\u001b[0m\n\u001b[0;32m----> 1\u001b[0m obj\u001b[38;5;241m.\u001b[39mplay()\n",
      "Cell \u001b[0;32mIn[38], line 13\u001b[0m, in \u001b[0;36mStudent.play\u001b[0;34m(cls)\u001b[0m\n\u001b[1;32m     10\u001b[0m \u001b[38;5;129m@classmethod\u001b[39m\n\u001b[1;32m     11\u001b[0m \u001b[38;5;28;01mdef\u001b[39;00m \u001b[38;5;21mplay\u001b[39m(\u001b[38;5;28mcls\u001b[39m):\n\u001b[1;32m     12\u001b[0m     \u001b[38;5;28mprint\u001b[39m(\u001b[38;5;28mcls\u001b[39m\u001b[38;5;241m.\u001b[39mx)\n\u001b[0;32m---> 13\u001b[0m     \u001b[38;5;28mprint\u001b[39m(\u001b[38;5;28mcls\u001b[39m\u001b[38;5;241m.\u001b[39mmarks)\n",
      "\u001b[0;31mAttributeError\u001b[0m: type object 'Student' has no attribute 'marks'"
     ]
    }
   ],
   "source": []
  },
  {
   "cell_type": "code",
   "execution_count": 41,
   "id": "07a11822-fb78-4aec-babe-c0a1b8f36cd1",
   "metadata": {},
   "outputs": [],
   "source": [
    "Student.x=100"
   ]
  },
  {
   "cell_type": "code",
   "execution_count": 74,
   "id": "56618a05-0502-4ea5-a9b2-d54f3b82ce94",
   "metadata": {},
   "outputs": [],
   "source": [
    "class Student:\n",
    "    x=10 #static variable\n",
    "    def __init__(self):\n",
    "        Student.col='vaag'\n",
    "        Student.branch='csd'\n",
    "        print(self.x)\n",
    "    def talk(self):\n",
    "        Student.col= 'vaagdevi' #declare\n",
    "        print(self.x)\n",
    "    @classmethod\n",
    "    def play(cls):\n",
    "        print(cls.x)\n",
    "        print(cls.col)"
   ]
  },
  {
   "cell_type": "code",
   "execution_count": 75,
   "id": "2d1205d7-17aa-458f-96ff-92733d96a9a3",
   "metadata": {},
   "outputs": [
    {
     "name": "stdout",
     "output_type": "stream",
     "text": [
      "10\n",
      "10\n"
     ]
    }
   ],
   "source": [
    "\n",
    "obj=Student()\n",
    "obj.talk()"
   ]
  },
  {
   "cell_type": "code",
   "execution_count": 76,
   "id": "2ae475fd-e198-4bff-ada8-b8add248936c",
   "metadata": {},
   "outputs": [
    {
     "name": "stdout",
     "output_type": "stream",
     "text": [
      "10\n",
      "vaagdevi\n"
     ]
    }
   ],
   "source": [
    "Student.play()"
   ]
  },
  {
   "cell_type": "code",
   "execution_count": 77,
   "id": "6a599fc5-a831-404e-bd73-a5f36f1694cd",
   "metadata": {},
   "outputs": [],
   "source": [
    "Student.x=100"
   ]
  },
  {
   "cell_type": "code",
   "execution_count": 78,
   "id": "7d5773e9-9b4d-495f-88ce-590d9f2eb5ce",
   "metadata": {},
   "outputs": [
    {
     "name": "stdout",
     "output_type": "stream",
     "text": [
      "100\n"
     ]
    }
   ],
   "source": [
    "obj.talk()"
   ]
  },
  {
   "cell_type": "code",
   "execution_count": 79,
   "id": "53df7007-0b88-487a-b647-75e5bd7aea96",
   "metadata": {},
   "outputs": [
    {
     "name": "stdout",
     "output_type": "stream",
     "text": [
      "100\n"
     ]
    }
   ],
   "source": [
    "obj.talk()"
   ]
  },
  {
   "cell_type": "markdown",
   "id": "75accdb3-5f40-4f6d-9790-63b492d712a7",
   "metadata": {},
   "source": [
    "### Bank Mini Application"
   ]
  },
  {
   "cell_type": "code",
   "execution_count": 25,
   "id": "8cb394f7-ce6f-4d8a-b157-eff275715e6b",
   "metadata": {},
   "outputs": [],
   "source": [
    "class Custumer:\n",
    "    bank = 'SBI'\n",
    "    def __init__(self,name):\n",
    "        self.name=name\n",
    "        self.balance=0\n",
    "    def deposit(self,money):\n",
    "        self.money=money\n",
    "        self.balance = self.balance + self.money\n",
    "        print('balance',self.balance)\n",
    "        print('money',self.money)\n",
    "    def withdraw(self,money):\n",
    "        self.money = money\n",
    "        if self.money>self.balance:\n",
    "            print('insuufficuiant')\n",
    "            sys.exit()\n",
    "        self.balance=self.balance-self.money\n",
    "        print('after withdraw',self.balance)"
   ]
  },
  {
   "cell_type": "code",
   "execution_count": 26,
   "id": "8744555e-a2b9-447e-8119-b966bed10b94",
   "metadata": {},
   "outputs": [],
   "source": [
    "obj = Custumer('vishnu')"
   ]
  },
  {
   "cell_type": "code",
   "execution_count": 27,
   "id": "ddee62be-930d-4a83-82fe-14db847ab0d9",
   "metadata": {},
   "outputs": [
    {
     "name": "stdout",
     "output_type": "stream",
     "text": [
      "balance 300\n",
      "money 300\n"
     ]
    }
   ],
   "source": []
  },
  {
   "cell_type": "code",
   "execution_count": 28,
   "id": "39c0462d-88a5-43b4-892e-d9d69e093e20",
   "metadata": {},
   "outputs": [
    {
     "name": "stdout",
     "output_type": "stream",
     "text": [
      "after withdraw 0\n"
     ]
    }
   ],
   "source": [
    "obj.withdraw(300)"
   ]
  },
  {
   "cell_type": "code",
   "execution_count": 29,
   "id": "2b87c323-3217-4399-8e22-5f8bcc5cfb22",
   "metadata": {},
   "outputs": [
    {
     "data": {
      "text/plain": [
       "0"
      ]
     },
     "execution_count": 29,
     "metadata": {},
     "output_type": "execute_result"
    }
   ],
   "source": [
    "obj.balance"
   ]
  },
  {
   "cell_type": "code",
   "execution_count": 31,
   "id": "ddbde390-6086-4077-b0f3-1046705f708f",
   "metadata": {},
   "outputs": [
    {
     "data": {
      "text/plain": [
       "300"
      ]
     },
     "execution_count": 31,
     "metadata": {},
     "output_type": "execute_result"
    }
   ],
   "source": [
    "obj.money"
   ]
  },
  {
   "cell_type": "code",
   "execution_count": 32,
   "id": "d8f3559a-d0ff-4ca8-b9d1-b76f8e43c7ad",
   "metadata": {},
   "outputs": [
    {
     "name": "stdout",
     "output_type": "stream",
     "text": [
      "Enter money to deposit: 3000\n"
     ]
    },
    {
     "name": "stdout",
     "output_type": "stream",
     "text": [
      "balance 3000.0\n",
      "money 3000.0\n"
     ]
    }
   ],
   "source": [
    "money = float(input('Enter money to deposit:'))\n",
    "obj.deposit(money)"
   ]
  },
  {
   "cell_type": "code",
   "execution_count": 33,
   "id": "af05015b-1522-4323-97b5-da482372ceb7",
   "metadata": {},
   "outputs": [
    {
     "name": "stdout",
     "output_type": "stream",
     "text": [
      "after withdraw 2000.0\n"
     ]
    }
   ],
   "source": [
    "obj.withdraw(1000)"
   ]
  },
  {
   "cell_type": "code",
   "execution_count": 34,
   "id": "ef037f72-81e5-4f8c-8393-3dca8ef72a2a",
   "metadata": {},
   "outputs": [
    {
     "data": {
      "text/plain": [
       "'vishnu'"
      ]
     },
     "execution_count": 34,
     "metadata": {},
     "output_type": "execute_result"
    }
   ],
   "source": [
    "obj.name"
   ]
  },
  {
   "cell_type": "code",
   "execution_count": 35,
   "id": "6efaf3a2-7384-4fd7-ade8-ab7788f77a38",
   "metadata": {},
   "outputs": [
    {
     "data": {
      "text/plain": [
       "2000.0"
      ]
     },
     "execution_count": 35,
     "metadata": {},
     "output_type": "execute_result"
    }
   ],
   "source": [
    "obj.balance"
   ]
  },
  {
   "cell_type": "code",
   "execution_count": 37,
   "id": "09f9d2ad-8ab8-41c9-a8c9-9aaff5948d19",
   "metadata": {},
   "outputs": [
    {
     "name": "stdout",
     "output_type": "stream",
     "text": [
      "balance 10000.0\n",
      "money 5000\n"
     ]
    }
   ],
   "source": [
    "obj.deposit(5000)"
   ]
  },
  {
   "cell_type": "code",
   "execution_count": 38,
   "id": "68b9fc98-0799-439d-96fd-10f951362512",
   "metadata": {},
   "outputs": [
    {
     "name": "stdout",
     "output_type": "stream",
     "text": [
      "after withdraw 9999.0\n"
     ]
    }
   ],
   "source": [
    "obj.withdraw(1)"
   ]
  },
  {
   "cell_type": "markdown",
   "id": "9b050b80-63df-4934-a774-ca8639d71606",
   "metadata": {},
   "source": [
    "### Setter and getter methhods:"
   ]
  },
  {
   "cell_type": "markdown",
   "id": "5f160cb0-6588-4081-82eb-674b57a47f9e",
   "metadata": {},
   "source": [
    "1. To access and modify the data with the help of objreferce (1 Method).\n",
    "2. we have another method is called set data, get data using the setter and getter methods.\n",
    "3. we can assaign the values to instance variable with help of setter method and getter method and also we can access the varibles.\n",
    "4. We  can set and get the values of the instance variables\n",
    "5. Getter -> getting the values of the object.\n",
    "6. Setter -> setting the values to the object.\n",
    "7. Biggest advantage of this methods are for security\n",
    "8. if we have two insance variable then we have two setter and two getter methods are required.\n",
    "9. Number of setter and getter methods == No.of Instance varaibles\n",
    "10. Hiding the data behind the methods ==> Encapulation\n",
    "11. obj.name ===> direct accessing outside persones should not access directly so that wes setter geeter for security\n",
    "12. obj.setName() ==> if directly use this for obj.name === . i will say set 2lakhs to my bank. to prevent we use setter and getter\n",
    "13. obj.getName() ==> validation stuff :-\n",
    "14. Ex: varible age --> setAge() --> stardard method.\n",
    "15.\n",
    "```\n",
    "age \n",
    "def setAge(self,age):\n",
    "    sefl.age = age\n",
    "```\n",
    "16. The biggest adavantage of the encapsulation is security\n",
    "17. The biggest drawback is length of the code is increased `(For Every varible we have to use setter and geter methods.)`"
   ]
  },
  {
   "cell_type": "code",
   "execution_count": 8,
   "id": "ffce0908-ad6d-4b06-a9d5-9765501ea132",
   "metadata": {},
   "outputs": [
    {
     "name": "stdout",
     "output_type": "stream",
     "text": [
      "Name of the student is vishnu\n",
      "Marks of the student is 2020\n"
     ]
    }
   ],
   "source": [
    "class Student:\n",
    "    def __init__(self,name,marks):\n",
    "        self.name=name\n",
    "        self.marks=marks\n",
    "        self.details()\n",
    "    def details(self):\n",
    "        print(\"Name of the student is {0}\".format(self.name))\n",
    "        print(\"Marks of the student is {0}\".format(self.marks))\n",
    "\n",
    "##creating the object \n",
    "obj = Student('vishnu',2020)"
   ]
  },
  {
   "cell_type": "code",
   "execution_count": 20,
   "id": "2a008a38-17ad-4986-8784-980f0bb01550",
   "metadata": {},
   "outputs": [],
   "source": [
    "## We can also get the values and set the values with the getter and setter method just like below\n"
   ]
  },
  {
   "cell_type": "code",
   "execution_count": 21,
   "id": "f9a51a62-8a1a-4bf6-8566-da7b3ca9565b",
   "metadata": {},
   "outputs": [],
   "source": [
    "#### Syntax of Setter Method:\n",
    "def setVariableName(self,variableName):\n",
    "    self.variableName = variableName\n",
    "    return self.variableName\n",
    "\n",
    "###Syntax of Getter Method\n",
    "def getVariableName(self): # we dont provide argument because we are just getting the value\n",
    "    return self.variableName"
   ]
  },
  {
   "cell_type": "code",
   "execution_count": 22,
   "id": "ec28169a-be6a-41d8-aafd-636db19ec66b",
   "metadata": {},
   "outputs": [],
   "source": [
    "## For above Class example writing the setter method.\n",
    "class Student:\n",
    "    ## setting  methodd for name\n",
    "    def setName(self,name):\n",
    "        self.name = name \n",
    "\n",
    "    ## Getter method for name\n",
    "    def getName(self):\n",
    "        return self.name\n",
    "   \n",
    "    \n",
    "    #seter methods marks\n",
    "    def setMarks(self,marks):\n",
    "        self.marks = marks\n",
    "\n",
    "\n",
    "    #geter methods for marks\n",
    "    def getMarks(self):\n",
    "        return self.marks\n",
    "        \n",
    "    def details(self):\n",
    "        print(\"Name of the student is {0}\".format(self.name))\n",
    "        print(\"Marks of the student is {0}\".format(self.marks))\n"
   ]
  },
  {
   "cell_type": "code",
   "execution_count": 24,
   "id": "68a82939-d899-4395-99fb-c0c9f142592a",
   "metadata": {},
   "outputs": [
    {
     "name": "stdout",
     "output_type": "stream",
     "text": [
      "Enter Number of Student: 1\n",
      "Enter Student Name: vishnu\n",
      "Enter Student Marks: 55\n"
     ]
    },
    {
     "name": "stdout",
     "output_type": "stream",
     "text": [
      "-----\n",
      "vishnu\n",
      "55\n",
      "------------\n"
     ]
    }
   ],
   "source": [
    "n = int (input('Enter Number of Student:'))\n",
    "for i in range(n):\n",
    "    name = input('Enter Student Name:')\n",
    "    marks = int(input('Enter Student Marks:'))\n",
    "    s = Student()\n",
    "    print('-----')\n",
    "    s.setName(name)\n",
    "    s.setMarks(marks)\n",
    "    print(s.getName())\n",
    "    print(s.getMarks())\n",
    "    print('------------')\n",
    "    \n",
    "    \n",
    "    "
   ]
  },
  {
   "cell_type": "markdown",
   "id": "0a92cb01-f86f-4574-8199-c83529b5c3ec",
   "metadata": {},
   "source": [
    "<h2><span style=\"background-color:lightblue;color:red\">Differece b/w  Instance and Static Method and Class methods</span></h2>"
   ]
  },
  {
   "cell_type": "markdown",
   "id": "eb784237-2c81-4556-89ac-d8755b536973",
   "metadata": {},
   "source": [
    "1. Inside method body if we using only static variables then it is highly  recommended to decalare theat method as class method.\n",
    "\n",
    "2. To declare instance method we are not required to use any decorator. But for class `@classmethod` decorator\n",
    "\n",
    "3. The first argument to the intance method should be self, whichi is reference to the current object and by using self,we can access instance variables inside method.\n",
    "\n",
    "4. The first argument to the should be cls, which is reference varible for the current class object and by using that we can access static varaibles(class varibles).\n",
    "\n",
    "5. Inside instance method we can access both instance and static variables. But Inside classmethod we can access only static variables and we cannot access instanc varialbles.\n",
    "\n",
    "6. We can call instance method by using object reference.\n",
    "\n",
    "7. We can call classmethod either by using object reference or by using classname. but recommanded use classname\n",
    "   "
   ]
  },
  {
   "cell_type": "code",
   "execution_count": 31,
   "id": "a77998f5-598d-441c-bb84-1d5ec0a3fd14",
   "metadata": {},
   "outputs": [
    {
     "name": "stdout",
     "output_type": "stream",
     "text": [
      "donkey will have 5 legs\n"
     ]
    }
   ],
   "source": [
    "### simple example\n",
    "class Animal():\n",
    "    legs =5\n",
    "    @classmethod\n",
    "    def walk(cls,name):\n",
    "        cls.name=name\n",
    "        print('{} will have {} legs'.format(name,cls.legs))\n",
    "        #print('{} will have {} legs'.format(cls.name,cls.legs)) #Its working\n",
    "\n",
    "Animal.walk('donkey')"
   ]
  },
  {
   "cell_type": "code",
   "execution_count": 32,
   "id": "906c9725-2e8d-4111-bab8-6014c9ea93b0",
   "metadata": {},
   "outputs": [],
   "source": [
    "## write a programm to track no.fo objects that are crdated to the class.\n",
    "## count the no.of objected are created by the class"
   ]
  },
  {
   "cell_type": "code",
   "execution_count": 46,
   "id": "d8dcefc0-8fe3-46ef-8005-a72338457572",
   "metadata": {},
   "outputs": [],
   "source": [
    "class Test:\n",
    "    count=0 #class level variable or static variables\n",
    "    def __init__(self):\n",
    "        Test.count = Test.count+1\n",
    "    #@classmethod\n",
    "    def getNoofObjects(): #(cls)\n",
    "        print('The no.of objects are created',Test.count)\n",
    "        \n"
   ]
  },
  {
   "cell_type": "code",
   "execution_count": 47,
   "id": "f0ca884a-86e3-405b-a9f3-25d5b04fa660",
   "metadata": {},
   "outputs": [
    {
     "data": {
      "text/plain": [
       "3"
      ]
     },
     "execution_count": 47,
     "metadata": {},
     "output_type": "execute_result"
    }
   ],
   "source": [
    "obj1= Test()\n",
    "obj2 = Test()\n",
    "obj3 = Test()\n",
    "Test.count"
   ]
  },
  {
   "cell_type": "code",
   "execution_count": 49,
   "id": "0d949edf-623c-4141-a781-f8da59296fe1",
   "metadata": {},
   "outputs": [
    {
     "name": "stdout",
     "output_type": "stream",
     "text": [
      "The no.of objects are created 3\n"
     ]
    }
   ],
   "source": [
    "Test.getNoofObjects()"
   ]
  },
  {
   "cell_type": "markdown",
   "id": "c5ab7bec-6219-415a-a0b6-3cdbb3bbf9f6",
   "metadata": {},
   "source": [
    "### Static Method\n",
    "1. Just Genearal utility methods/heper mehods\n",
    "2. Method dont use objected realted data and class realted data\n",
    "3. we can use `@staticmethod`\n",
    "4. accessing with Rcommended to use class.method() -->"
   ]
  },
  {
   "cell_type": "code",
   "execution_count": 51,
   "id": "bdd59508-0a7f-401c-a6e8-6547ceeb316f",
   "metadata": {},
   "outputs": [
    {
     "name": "stdout",
     "output_type": "stream",
     "text": [
      "3\n"
     ]
    }
   ],
   "source": [
    "#Ex: For the Static Method\n",
    "class Math:\n",
    "    @staticmethod\n",
    "    def add(x,y):\n",
    "        return x+y\n",
    "print(Math.add(1,2))"
   ]
  },
  {
   "cell_type": "markdown",
   "id": "b7d55d01-3669-4442-9291-d9e527e21e59",
   "metadata": {},
   "source": [
    "<h2><span style=\"background-color:lightblue;color:red\">Differece b/w  Instance and Static Method </span></h2>"
   ]
  },
  {
   "cell_type": "markdown",
   "id": "d3abfe23-aa3b-44da-9eeb-18517b3b2229",
   "metadata": {},
   "source": [
    "1. If we are using any instance variables inside method body then we should go for instance method. we should call object reference\n",
    "---\n",
    "3. If we are using only static varible inside method body then this method no way related to a particualr object, we should decalre such type of methods as classthod. we can call either by object reference or classname but recommend use `class_name`.\n",
    "---\n",
    "5. if we are not using any instance variable and any static varibles inside method body, to define such type of general utility methods we should go for static methods.  we can call either by object reference or classname but recommend use `class_name`."
   ]
  },
  {
   "cell_type": "markdown",
   "id": "62e89d98-ed50-49db-922f-78c93003f3e1",
   "metadata": {},
   "source": [
    "- For classmethod, @classmethod decorator is mandatory.\n",
    "\n",
    "- For staticmethod, @staticmethod decorator is optional.\n",
    "\n",
    "- without having @staticmethod decatorer ```for instace we call with obj reference(self.method()) for staticmethod classname.method()```if it have self then it is instance method if not it is static method\n",
    "- for instace we call with obj reference(self.method()) for staticmethod classname.method()"
   ]
  },
  {
   "cell_type": "code",
   "execution_count": 57,
   "id": "91bb51b6-0093-4d03-a71c-c41b99ca5a01",
   "metadata": {},
   "outputs": [
    {
     "name": "stdout",
     "output_type": "stream",
     "text": [
      "The no.of objects are created 2\n"
     ]
    }
   ],
   "source": [
    "class Test:\n",
    "    count=0 #class level variable or static variables\n",
    "    def __init__(self):\n",
    "        Test.count = Test.count+1\n",
    "    #@staticmethod #optional\n",
    "    def getNoofObjects():\n",
    "        print('The no.of objects are created',Test.count)\n",
    "        \n",
    "obj1 =Test()\n",
    "obj2 = Test()\n",
    "Test.getNoofObjects()"
   ]
  },
  {
   "cell_type": "markdown",
   "id": "92e83e1b-3e4a-4cf0-925f-0e415325fd68",
   "metadata": {},
   "source": []
  },
  {
   "cell_type": "markdown",
   "id": "cfe8bd07-463d-4e97-876a-3f0e5ec52702",
   "metadata": {},
   "source": [
    "1. we can accesses one class(1stclass) data using another class by using object referenc of 1st  class"
   ]
  },
  {
   "cell_type": "code",
   "execution_count": 15,
   "id": "9a79350b-f0e9-42f1-a3c5-f7f9727b33e5",
   "metadata": {},
   "outputs": [
    {
     "name": "stdout",
     "output_type": "stream",
     "text": [
      "Employe Number 20\n",
      "Employe ename vishnu\n",
      "Employe esal 200500\n"
     ]
    }
   ],
   "source": [
    "## Acesssig the one class data in other class by  using 1stclass obj or obect reference.\n",
    "\n",
    "class Employee: ## First class\n",
    "    \n",
    "    def __init__(self,eno,ename,esal):\n",
    "        self.eno= eno\n",
    "        self.ename = ename\n",
    "        self.esal = esal\n",
    "\n",
    "    def emp_details(self):\n",
    "        print('Employe Number',self.eno)\n",
    "        print('Employe ename',self.ename)\n",
    "        print('Employe esal',self.esal)\n",
    "class Test:\n",
    "    def modify(obj1):\n",
    "        obj1.esal = obj1.esal+500\n",
    "        obj1.emp_details()\n",
    "\n",
    "obj1 = Employee(20,'vishnu',200000)\n",
    "\n",
    "Test.modify(obj1)"
   ]
  },
  {
   "cell_type": "markdown",
   "id": "39aeaf7b-5583-43f1-ad1d-c879e581ca64",
   "metadata": {},
   "source": [
    "#### INNER CLASSES"
   ]
  },
  {
   "cell_type": "markdown",
   "id": "31391e33-f358-4329-877d-57d16c378339",
   "metadata": {},
   "source": [
    "1. The class which is declared inside another class.\n",
    "2. ``` without existing one type of object if there is no chance of existing another type of object then we should go for inner classes```\n",
    "- Ex: without existing a car no existen of engine . engine is the part of the car . why we take engine as outside better take the engine is inside only. without existing the car object there is no existen of engine object.\n",
    "3. Without existing outer class object there is no chance of existing inner class object. Inner class object is always associated with outer class object."
   ]
  },
  {
   "cell_type": "code",
   "execution_count": 45,
   "id": "5518948f-3bef-4fff-8182-97aa3e87ff5e",
   "metadata": {},
   "outputs": [],
   "source": [
    "#Ex: For inner clas\n",
    "class Car:\n",
    "    pass\n",
    "    class Engine:\n",
    "        pass\n",
    "'''\n",
    "- Car --> Out class\n",
    "- Engine --> Inner class\n",
    "'''\n",
    "\n",
    "#Ex: Deparment is should be part of University.\n",
    "class University:\n",
    "    pass\n",
    "class Department:\n",
    "    pass\n",
    "#Ex: without existing the Human. no exsitence of head and body parts\n",
    "class Human:\n",
    "    pass\n",
    "class Head:\n",
    "    pass\n",
    "\n",
    "\n",
    "\n",
    "class Human:\n",
    "    def __init__(self):\n",
    "        self.head = self.Head()\n",
    "        self.brain = self.Brain()\n",
    "    class Head:\n",
    "         def talk():\n",
    "             pass\n",
    "         \n",
    "    class Brain:\n",
    "         def think():\n",
    "             pass\n",
    "    "
   ]
  },
  {
   "cell_type": "code",
   "execution_count": 30,
   "id": "cfe0139c-c07b-4664-9276-5ee1bf7554f4",
   "metadata": {},
   "outputs": [
    {
     "name": "stdout",
     "output_type": "stream",
     "text": [
      "Outer class object creation\n",
      "Inner class object creation\n",
      "Inner class Method\n",
      "Outer class object creation\n",
      "Inner class object creation\n",
      "Inner class Method\n",
      "Outer class object creation\n",
      "Inner class object creation\n",
      "Inner class Method\n"
     ]
    }
   ],
   "source": [
    "## Syntax\n",
    "class Outer:\n",
    "    def __init__(self):\n",
    "        print('Outer class object creation')\n",
    "    class Inner:\n",
    "        def __init__(self):\n",
    "            print('Inner class object creation')\n",
    "        def m1(self):\n",
    "            print('Inner class Method')\n",
    "Oc = Outer()\n",
    "ic = Oc.Inner()\n",
    "ic.m1()\n",
    "o = Outer().Inner()\n",
    "o.m1()\n",
    "\n",
    "Outer().Inner().m1()"
   ]
  },
  {
   "cell_type": "code",
   "execution_count": 39,
   "id": "c46c84bb-3d72-4431-ade7-a6ccfefbae85",
   "metadata": {},
   "outputs": [
    {
     "name": "stdout",
     "output_type": "stream",
     "text": [
      "Name vishnu\n",
      "DOB=13/13/2002\n"
     ]
    }
   ],
   "source": [
    "# Example:\n",
    "class Person:\n",
    "    def __init__(self):\n",
    "        self.name = 'vishnu'\n",
    "        self.dob = self.DOB()\n",
    "    def display(self):\n",
    "        print('Name',self.name)\n",
    "        self.dob.display()\n",
    "    class DOB:\n",
    "        def __init__(self):\n",
    "            self.dd = 13\n",
    "            self.mm = 3\n",
    "            self.yyyy = 2002\n",
    "        def display(self):\n",
    "            print('DOB={}/{}/{}'.format(self.dd,self.dd,self.yyyy))  \n",
    "\n",
    "\n"
   ]
  },
  {
   "cell_type": "code",
   "execution_count": 5,
   "id": "c3451b13-bebf-4ed0-9fe9-adee9a082e30",
   "metadata": {},
   "outputs": [
    {
     "name": "stdout",
     "output_type": "stream",
     "text": [
      "Name vishnu\n",
      "Date of birth:23/8/2004\n"
     ]
    }
   ],
   "source": [
    "class Person:\n",
    "    def __init__(self):\n",
    "        self.name = 'vishnu'\n",
    "        self.dob = self.DOB()\n",
    "    def display(self):\n",
    "        \n",
    "        print('Name',self.name)\n",
    "        self.dob.display()\n",
    "         \n",
    "    class DOB:\n",
    "        def __init__(self):\n",
    "            self.dd = 23\n",
    "            self.mm = 8\n",
    "            self.yyyy = 2004\n",
    "        def display(self):\n",
    "            print('Date of birth:{}/{}/{}'.format(self.dd,self.mm,self.yyyy))\n",
    "p = Person()\n",
    "p.display()"
   ]
  },
  {
   "cell_type": "markdown",
   "id": "9fd03e08-56ce-447d-8997-04e94d4cb270",
   "metadata": {},
   "source": [
    "#### Nested Classes and Nested Methods"
   ]
  },
  {
   "cell_type": "code",
   "execution_count": 7,
   "id": "a2dbfabc-a0e1-4765-aaae-bb3d7bc33fdb",
   "metadata": {},
   "outputs": [
    {
     "name": "stdout",
     "output_type": "stream",
     "text": [
      "talk\n",
      "Think\n"
     ]
    }
   ],
   "source": [
    "## Example \n",
    "class Person:\n",
    "    class Head:\n",
    "        print('talk')\n",
    "        class Brain:\n",
    "            print('Think')"
   ]
  },
  {
   "cell_type": "code",
   "execution_count": 14,
   "id": "fc8ac842-147c-4de0-a3d3-70af47b60346",
   "metadata": {},
   "outputs": [
    {
     "name": "stdout",
     "output_type": "stream",
     "text": [
      "Name vishnu\n",
      "Talking\n",
      "Thinking....\n"
     ]
    }
   ],
   "source": [
    "class Human:\n",
    "    def __init__(self):\n",
    "        self.name = 'vishnu'\n",
    "        self.head = self.Head()\n",
    "    def display(self):\n",
    "        print('Name',self.name)\n",
    "        self.head.talk()\n",
    "        self.head.brain.think()\n",
    "    class Head:\n",
    "        def __init__(self):\n",
    "            self.brain = self.Brain()\n",
    "        def talk(self):\n",
    "            print('Talking')\n",
    "        class Brain:\n",
    "            #def __init__(self):\n",
    "               # self.think()\n",
    "            def think(self):\n",
    "                print('Thinking....')\n",
    "h = Human()\n",
    "h.display()"
   ]
  },
  {
   "cell_type": "markdown",
   "id": "f9026b5d-1627-4d12-a803-99fa8d126078",
   "metadata": {},
   "source": [
    "#### Nested Methods\n",
    "- Code Reusability "
   ]
  },
  {
   "cell_type": "raw",
   "id": "a1924aaf-7d84-47ca-a815-960f1e634d40",
   "metadata": {},
   "source": [
    "def m1():\n",
    "  m2()\n",
    "  m2()\n",
    "    def m2():\n",
    "        def m3():\n",
    "            --- repeates"
   ]
  },
  {
   "cell_type": "code",
   "execution_count": 19,
   "id": "0e141f27-6efb-4981-b299-f5a3c0ce9703",
   "metadata": {},
   "outputs": [
    {
     "name": "stdout",
     "output_type": "stream",
     "text": [
      "3\n",
      "****\n",
      "7359\n",
      "****\n",
      "0\n",
      "****\n"
     ]
    }
   ],
   "source": [
    "class Test:\n",
    "    def m1(self):\n",
    "        def sum(a,b):\n",
    "            print(a*b)\n",
    "            print('*'*4 )\n",
    "        sum(1,3)\n",
    "        sum(33,223)\n",
    "        sum(333,0)\n",
    "t = Test()\n",
    "t.m1()"
   ]
  },
  {
   "cell_type": "markdown",
   "id": "f3387689-0909-404b-8863-7fac7d72721b",
   "metadata": {},
   "source": [
    "#### Garbage Collection"
   ]
  },
  {
   "cell_type": "code",
   "execution_count": null,
   "id": "8bec7a4f-02ed-4194-8d17-f11413801a9a",
   "metadata": {},
   "outputs": [],
   "source": []
  },
  {
   "cell_type": "code",
   "execution_count": null,
   "id": "25121d6b-30fa-432e-89a4-953c5e19dac6",
   "metadata": {},
   "outputs": [],
   "source": []
  },
  {
   "cell_type": "markdown",
   "id": "08381ba6-1f66-4b04-885c-a2b4e7c02e58",
   "metadata": {},
   "source": [
    "### LOGGING\n",
    "---"
   ]
  },
  {
   "cell_type": "markdown",
   "id": "936202c0-5f56-4148-8dd4-29ac78bce9a5",
   "metadata": {},
   "source": [
    "ex:- computer lab log book.\n",
    "ex:- Library in that log book will be there\n",
    "By doing logging book\n",
    "1. we know that how many students are coming or not . count of the students..\n",
    "2. To track the student information..\n",
    "3. which students are usig more time in library or lab.\n",
    "4. by mistake mouse will gone . we will ask to the logged members and then find it ...\n",
    "- Tracking everything ....\n",
    "  "
   ]
  },
  {
   "cell_type": "markdown",
   "id": "17112350-6306-445f-84d8-ab800365a969",
   "metadata": {},
   "source": [
    "every request will be stored in the log file \n",
    "so that we know \n",
    "how many requests came\n",
    "something will goes wrong it will be tracked \n"
   ]
  },
  {
   "cell_type": "markdown",
   "id": "4da0ddb7-6e87-419e-b074-8604ee5dfa8f",
   "metadata": {},
   "source": [
    "AT  12:30pm server gone . this will present in the logger file\n",
    "by viewing logging file we conclude that reason,prevent we don... we can solve that problem by using logger file"
   ]
  },
  {
   "cell_type": "code",
   "execution_count": null,
   "id": "043858bf-0c36-4077-aaa1-175c05370eec",
   "metadata": {},
   "outputs": [],
   "source": []
  },
  {
   "cell_type": "markdown",
   "id": "52606c2a-c0b5-406c-b51a-f869d3d25567",
   "metadata": {},
   "source": [
    "In Object-Oriented Programming (OOP), logging helps keep track of what’s happening within objects and methods.\n",
    "\n",
    "For example, you can log when an object is created, when a method is called, or when an error occurs.\n",
    "\n",
    "This information is stored in a log file or displayed on the console."
   ]
  },
  {
   "cell_type": "markdown",
   "id": "2644d1a2-ee8f-4275-aec7-cf0a6fe70f84",
   "metadata": {},
   "source": [
    "to store complete application flow and exceptions of file is called logging\n"
   ]
  },
  {
   "cell_type": "markdown",
   "id": "8aff9ce9-a87b-4e5a-a831-e3ff77c1ad35",
   "metadata": {},
   "source": [
    "#### Advantages of logging\n",
    "1. To perfrom debuggin and to prepare RCA(root cause analysis)\n",
    "2.To Track complete information of that file.\n",
    "3. To Provide statestics like no.of requests per day. .. "
   ]
  },
  {
   "cell_type": "markdown",
   "id": "1c63bd0c-37d8-44d6-800b-4fbe9e43cecf",
   "metadata": {},
   "source": [
    "#### while Performing logging:\n",
    "------\n",
    "to information we use logging module in python\n",
    "\n",
    "##### loggin levels:-  5 MAILY \n",
    "\n",
    "1. CRITICAL EX: critical sistual the application is alomost going to stop. --->REPSEENT WITH NUMBER WITH 50\n",
    "2. ERROR  EX: application not stop but have error -->40\n",
    "3. WARNING  EX: Smoking is injuries to health --->30\n",
    "4. INFO  ex: represent some important inforamtion -->20\n",
    "5. DEBUG -->10\n",
    "6. NOTSET-->0\n",
    "\n",
    "NOTSET<DEBUG<INFO<WARNING<ERROR<CRITICAL\n",
    "\n",
    "\n",
    "Default Level: WARNING   "
   ]
  },
  {
   "cell_type": "markdown",
   "id": "bb3d1061-0662-49ad-a20a-a414223cd63b",
   "metadata": {},
   "source": [
    "#### How to implement logging:\n",
    "log file \n",
    "level message\n",
    "\n",
    "basic config() funciton of loggig we can implement the logging\n",
    "\n",
    "`logging.basicConfig(filename='log.txt',level=loggin.WARINING)` ## log file created and level setted\n",
    "\n",
    "```\n",
    "logging.debug(some message)\n",
    "logging.info(some message)\n",
    "logging.warning(some message)\n",
    "logging.error(some message)\n",
    "logging.critical(some message)\n",
    "```"
   ]
  },
  {
   "cell_type": "code",
   "execution_count": null,
   "id": "7b9fa323-9b51-4194-9a7b-182e035f6a9e",
   "metadata": {},
   "outputs": [],
   "source": []
  },
  {
   "cell_type": "code",
   "execution_count": 1,
   "id": "fe7b008f-4197-4eab-adaf-76654f87502f",
   "metadata": {},
   "outputs": [
    {
     "name": "stderr",
     "output_type": "stream",
     "text": [
      "INFO:root:Adding 3 and 5\n"
     ]
    },
    {
     "name": "stdout",
     "output_type": "stream",
     "text": [
      "8\n"
     ]
    }
   ],
   "source": [
    "import logging\n",
    "\n",
    "# Setting up basic configuration for logging\n",
    "logging.basicConfig(level=logging.INFO)\n",
    "\n",
    "class Calculator:\n",
    "    def add(self, a, b):\n",
    "        logging.info(f\"Adding {a} and {b}\")\n",
    "        return a + b\n",
    "\n",
    "calc = Calculator()\n",
    "result = calc.add(3, 5)\n",
    "print(result)\n"
   ]
  },
  {
   "cell_type": "markdown",
   "id": "6896f333-ecc1-4032-a863-454abda62257",
   "metadata": {},
   "source": [
    "##### create logfile write warning and higher level messages"
   ]
  },
  {
   "cell_type": "code",
   "execution_count": 7,
   "id": "4d97be4a-f8e3-48e1-a98c-b1b319a71c0f",
   "metadata": {},
   "outputs": [
    {
     "name": "stdout",
     "output_type": "stream",
     "text": [
      "logging module demo\n"
     ]
    }
   ],
   "source": [
    "import logging\n",
    "logging.basicConfig(filename='log.txt',level=logging.WARNING) # OR level =30 same meaning #\n",
    "print('logging module demo')\n",
    "logging.debug('debug information')\n",
    "logging.info('info information')\n",
    "logging.error('error information')\n",
    "logging.critical('critical information')\n",
    "logging.warning('warning information')"
   ]
  },
  {
   "cell_type": "markdown",
   "id": "0ea01517-ed5c-450e-a359-aab90db75f28",
   "metadata": {},
   "source": [
    "not mention level then automaticaly warining higher will print \n",
    "\n",
    "suppose if i override the total logfile then i use the filemod='w'"
   ]
  },
  {
   "cell_type": "markdown",
   "id": "693bb5f2-3a9a-4505-be74-2227081bff30",
   "metadata": {},
   "source": [
    "##### How to format log messages\n",
    "by using `format` keyword "
   ]
  },
  {
   "cell_type": "code",
   "execution_count": null,
   "id": "34edd18d-c8ed-4a5c-97c4-c7b9fd348019",
   "metadata": {},
   "outputs": [],
   "source": []
  },
  {
   "cell_type": "markdown",
   "id": "a68947fb-1784-4aef-a273-f659985df2dd",
   "metadata": {},
   "source": [
    "### Access Specifiers in Python"
   ]
  },
  {
   "cell_type": "markdown",
   "id": "81be2e17-b724-4e9d-93a5-329ae6c2d2f3",
   "metadata": {},
   "source": [
    "1. Public \n",
    "2. Protected\n",
    "3. Praivaite"
   ]
  },
  {
   "cell_type": "markdown",
   "id": "5e75ac38-52b9-4976-8234-d357b16d5916",
   "metadata": {},
   "source": [
    "- If the variables that are protected in the base class. then child class will access the that variables that are protected in Public. we cannot access the protected varibles other than inheritant classes. within the class and within the child class.\n",
    "- Privaite -> within this class only. not even child class cant access."
   ]
  },
  {
   "cell_type": "code",
   "execution_count": 47,
   "id": "67ccf09a-8a61-4245-b675-2c5163260425",
   "metadata": {},
   "outputs": [
    {
     "name": "stdout",
     "output_type": "stream",
     "text": [
      "My Name is vishnu\n",
      "23\n",
      "helo\n",
      "age 23\n"
     ]
    }
   ],
   "source": [
    "## Parent Class\n",
    "class Student:\n",
    "    def __init__(self,name,rollno,age):\n",
    "        self.name = name       ## public instance varible\n",
    "        self._rollno = rollno ## protected instance varible\n",
    "        self.__age = age\n",
    "    def __display(self):\n",
    "        print(f\"My Name is {self.name}\")\n",
    "    def _show_age(self):\n",
    "        print('age',self.__age)\n",
    "\n",
    "obj  = Student('vishnu','helo',23)\n",
    "obj._Student__display()\n",
    "dir(obj)\n",
    "obj._Student__age\n",
    "obj._rollno\n",
    "print(obj._Student__age)\n",
    "print(obj._rollno)\n",
    "obj._show_age()"
   ]
  },
  {
   "cell_type": "code",
   "execution_count": 49,
   "id": "73844201-2f4e-4c13-a593-7201c6d6cf15",
   "metadata": {},
   "outputs": [
    {
     "name": "stdout",
     "output_type": "stream",
     "text": [
      "kumar\n",
      "20\n",
      "pri 32\n",
      "age 32\n"
     ]
    }
   ],
   "source": [
    "## Child Class\n",
    "class Branch(Student):\n",
    "    def show(self):\n",
    "        print('pri',self._Student__age)\n",
    "        self._show_age()\n",
    "obj1 = Branch('kumar',20,32)\n",
    "#obj1.display()\n",
    "print(obj1.name) ## acces public\n",
    "print(obj1._rollno)## acces the protected varible\n",
    "obj1._rollno = 344\n",
    "obj1._rollno\n",
    "obj1._Student__age  ## name magling concept\n",
    "obj1.show()"
   ]
  },
  {
   "cell_type": "markdown",
   "id": "ac07aef5-b195-4eda-90a2-f8e3225c0052",
   "metadata": {},
   "source": [
    "#### Inheritance"
   ]
  },
  {
   "cell_type": "code",
   "execution_count": 3,
   "id": "e0a45540-3f51-48e5-87f1-6c1fee55b1e4",
   "metadata": {},
   "outputs": [
    {
     "name": "stdout",
     "output_type": "stream",
     "text": [
      "Name: John\n",
      "Name: John, Age: 25\n"
     ]
    }
   ],
   "source": [
    "class ParentClass:\n",
    "    # Parent class attributes and methods\n",
    "    def __init__(self, name):\n",
    "        self.name = name\n",
    "\n",
    "    def display(self):\n",
    "        print(f\"Name: {self.name}\")\n",
    "\n",
    "\n",
    "# Child class inherits from ParentClass\n",
    "class ChildClass(ParentClass):\n",
    "    def __init__(self, name, age):\n",
    "        # Call the constructor of the parent class\n",
    "        super().__init__(name)\n",
    "        self.age = age\n",
    "\n",
    "    def show_info(self):\n",
    "        print(f\"Name: {self.name}, Age: {self.age}\")\n",
    "\n",
    "\n",
    "# Create an instance of ChildClass\n",
    "child = ChildClass(\"John\", 25)\n",
    "child.display()      # Inherited method from ParentClass\n",
    "child.show_info()    # Method defined in ChildClass\n"
   ]
  },
  {
   "cell_type": "code",
   "execution_count": 10,
   "id": "3c29f9a8-d95a-47c6-8f78-29a814221931",
   "metadata": {},
   "outputs": [
    {
     "data": {
      "text/plain": [
       "'vishnu/train.csv'"
      ]
     },
     "execution_count": 10,
     "metadata": {},
     "output_type": "execute_result"
    }
   ],
   "source": [
    "import os\n",
    "os.path.join('vishnu','train.csv')"
   ]
  },
  {
   "cell_type": "code",
   "execution_count": 12,
   "id": "0a511c91-d0cb-4207-82dc-5cb8e9bc67e1",
   "metadata": {},
   "outputs": [],
   "source": [
    "os.makedirs(os.path.dirname(os.path.join('vishnu','train.csv')),exist_ok=True)"
   ]
  },
  {
   "cell_type": "code",
   "execution_count": 7,
   "id": "d065fc5c-9eba-431f-aab1-7c30cbb9bac4",
   "metadata": {},
   "outputs": [
    {
     "data": {
      "text/plain": [
       "'logs/okfdf'"
      ]
     },
     "execution_count": 7,
     "metadata": {},
     "output_type": "execute_result"
    }
   ],
   "source": [
    "os.makedirs(os.path.join())"
   ]
  },
  {
   "cell_type": "code",
   "execution_count": 8,
   "id": "b06583f0-5e72-45cf-8ed7-48415a18ef8c",
   "metadata": {},
   "outputs": [
    {
     "ename": "FileNotFoundError",
     "evalue": "[Errno 2] No such file or directory: 'vishnu/ok/hello'",
     "output_type": "error",
     "traceback": [
      "\u001b[0;31m---------------------------------------------------------------------------\u001b[0m",
      "\u001b[0;31mFileNotFoundError\u001b[0m                         Traceback (most recent call last)",
      "Cell \u001b[0;32mIn[8], line 1\u001b[0m\n\u001b[0;32m----> 1\u001b[0m \u001b[43mos\u001b[49m\u001b[38;5;241;43m.\u001b[39;49m\u001b[43mmkdir\u001b[49m\u001b[43m(\u001b[49m\u001b[43mos\u001b[49m\u001b[38;5;241;43m.\u001b[39;49m\u001b[43mpath\u001b[49m\u001b[38;5;241;43m.\u001b[39;49m\u001b[43mjoin\u001b[49m\u001b[43m(\u001b[49m\u001b[38;5;124;43m'\u001b[39;49m\u001b[38;5;124;43mvishnu\u001b[39;49m\u001b[38;5;124;43m'\u001b[39;49m\u001b[43m,\u001b[49m\u001b[38;5;124;43m'\u001b[39;49m\u001b[38;5;124;43mok\u001b[39;49m\u001b[38;5;124;43m'\u001b[39;49m\u001b[43m,\u001b[49m\u001b[38;5;124;43m'\u001b[39;49m\u001b[38;5;124;43mhello\u001b[39;49m\u001b[38;5;124;43m'\u001b[39;49m\u001b[43m)\u001b[49m\u001b[43m)\u001b[49m\n",
      "\u001b[0;31mFileNotFoundError\u001b[0m: [Errno 2] No such file or directory: 'vishnu/ok/hello'"
     ]
    }
   ],
   "source": [
    "os.mkdir(os.path.join('vishnu','ok','hello'))"
   ]
  },
  {
   "cell_type": "code",
   "execution_count": 9,
   "id": "d6ff74f3",
   "metadata": {},
   "outputs": [
    {
     "ename": "TypeError",
     "evalue": "dirname() takes 1 positional argument but 2 were given",
     "output_type": "error",
     "traceback": [
      "\u001b[0;31m---------------------------------------------------------------------------\u001b[0m",
      "\u001b[0;31mTypeError\u001b[0m                                 Traceback (most recent call last)",
      "Cell \u001b[0;32mIn[9], line 1\u001b[0m\n\u001b[0;32m----> 1\u001b[0m os\u001b[38;5;241m.\u001b[39mmakedirs(\u001b[43mos\u001b[49m\u001b[38;5;241;43m.\u001b[39;49m\u001b[43mpath\u001b[49m\u001b[38;5;241;43m.\u001b[39;49m\u001b[43mdirname\u001b[49m\u001b[43m(\u001b[49m\u001b[38;5;124;43m'\u001b[39;49m\u001b[38;5;124;43mok\u001b[39;49m\u001b[38;5;124;43m'\u001b[39;49m\u001b[43m,\u001b[49m\u001b[38;5;124;43m'\u001b[39;49m\u001b[38;5;124;43mtrain.csv\u001b[39;49m\u001b[38;5;124;43m'\u001b[39;49m\u001b[43m)\u001b[49m,exist_ok\u001b[38;5;241m=\u001b[39m\u001b[38;5;28;01mTrue\u001b[39;00m)\n",
      "\u001b[0;31mTypeError\u001b[0m: dirname() takes 1 positional argument but 2 were given"
     ]
    }
   ],
   "source": []
  },
  {
   "cell_type": "code",
   "execution_count": null,
   "id": "7bf1bb98-de08-4ec8-a58c-734ffb3ea753",
   "metadata": {},
   "outputs": [],
   "source": []
  },
  {
   "cell_type": "code",
   "execution_count": null,
   "id": "81e1c665-628d-4836-ad8d-cc42a1ba9f0b",
   "metadata": {},
   "outputs": [],
   "source": [
    "/home/vishnu/Desktop/DATA SCIENCE/ML/Python/path.ipynb"
   ]
  },
  {
   "cell_type": "code",
   "execution_count": null,
   "id": "d29bb127-b8b0-424e-9ed0-f8bf946eabf9",
   "metadata": {},
   "outputs": [],
   "source": []
  },
  {
   "cell_type": "code",
   "execution_count": null,
   "id": "4e67dd1c-fba7-4cf7-b7ed-a52c4e59e1c8",
   "metadata": {},
   "outputs": [],
   "source": []
  },
  {
   "cell_type": "code",
   "execution_count": null,
   "id": "6bc80aa1-5f90-4bea-9676-7de062a0ce89",
   "metadata": {},
   "outputs": [],
   "source": []
  },
  {
   "cell_type": "code",
   "execution_count": null,
   "id": "583d7d67-419b-40be-b7a9-da3bec758fc2",
   "metadata": {},
   "outputs": [],
   "source": []
  },
  {
   "cell_type": "code",
   "execution_count": null,
   "id": "b94825fb-e88b-4615-8467-1d5c75051069",
   "metadata": {},
   "outputs": [],
   "source": []
  },
  {
   "cell_type": "code",
   "execution_count": null,
   "id": "3367f6b1-a921-4caf-bf08-2f7fe00be9c1",
   "metadata": {},
   "outputs": [],
   "source": []
  },
  {
   "cell_type": "code",
   "execution_count": null,
   "id": "661fd9b7-e576-44ec-bb0e-eaac269082fe",
   "metadata": {},
   "outputs": [],
   "source": []
  },
  {
   "cell_type": "code",
   "execution_count": null,
   "id": "3b1e12e0-0b2a-4d8e-a8e5-d9aca9ed1522",
   "metadata": {},
   "outputs": [],
   "source": []
  },
  {
   "cell_type": "code",
   "execution_count": null,
   "id": "7460f6b8-d052-4b26-b0e1-e6267810c5f2",
   "metadata": {},
   "outputs": [],
   "source": []
  },
  {
   "cell_type": "code",
   "execution_count": null,
   "id": "00e643bd-7a00-44ae-853c-766b9a05eb7c",
   "metadata": {},
   "outputs": [],
   "source": []
  },
  {
   "cell_type": "code",
   "execution_count": null,
   "id": "c59c7349-e42a-431b-a22f-58ff5b66d76a",
   "metadata": {},
   "outputs": [],
   "source": []
  },
  {
   "cell_type": "code",
   "execution_count": null,
   "id": "738f149b-cc32-4b8c-80b8-ab5770b97981",
   "metadata": {},
   "outputs": [],
   "source": []
  },
  {
   "cell_type": "code",
   "execution_count": null,
   "id": "36007d96-4c6b-4191-91f5-a560f2da14d6",
   "metadata": {},
   "outputs": [],
   "source": []
  },
  {
   "cell_type": "code",
   "execution_count": null,
   "id": "d9bce692-dca4-4ee3-8b72-298a40640d50",
   "metadata": {},
   "outputs": [],
   "source": []
  },
  {
   "cell_type": "code",
   "execution_count": null,
   "id": "3248c096-1a89-491a-bd92-f7e18ab9af7a",
   "metadata": {},
   "outputs": [],
   "source": []
  },
  {
   "cell_type": "code",
   "execution_count": null,
   "id": "fb77600f-b920-4f04-ba81-3bf424d6494f",
   "metadata": {},
   "outputs": [],
   "source": []
  },
  {
   "cell_type": "code",
   "execution_count": null,
   "id": "d0e1194d-7fe7-4fd4-9e6b-cc83a8e16341",
   "metadata": {},
   "outputs": [],
   "source": []
  },
  {
   "cell_type": "code",
   "execution_count": null,
   "id": "b7753ff1-1371-499e-90c7-5c691f2ca77e",
   "metadata": {},
   "outputs": [],
   "source": []
  },
  {
   "cell_type": "code",
   "execution_count": null,
   "id": "2da2c07c-3eb6-45fd-acb6-4b6a063c63f8",
   "metadata": {},
   "outputs": [],
   "source": []
  },
  {
   "cell_type": "code",
   "execution_count": null,
   "id": "42d1c028-fa09-4634-bb5a-6930fe532799",
   "metadata": {},
   "outputs": [],
   "source": []
  },
  {
   "cell_type": "code",
   "execution_count": null,
   "id": "51f72a1f-fa74-47a8-b6f6-c442d2daf6a6",
   "metadata": {},
   "outputs": [],
   "source": []
  },
  {
   "cell_type": "code",
   "execution_count": null,
   "id": "a51f818e-4330-4678-84fd-11439fee19ff",
   "metadata": {},
   "outputs": [],
   "source": []
  },
  {
   "cell_type": "code",
   "execution_count": null,
   "id": "5f355a8b-064a-4bc1-b694-3508a50869f2",
   "metadata": {},
   "outputs": [],
   "source": []
  },
  {
   "cell_type": "code",
   "execution_count": null,
   "id": "1013c429-a2d3-4ec8-8fe1-91ed98452d6d",
   "metadata": {},
   "outputs": [],
   "source": []
  },
  {
   "cell_type": "code",
   "execution_count": null,
   "id": "7a852b0c-1be9-481d-a406-24b4dd10901e",
   "metadata": {},
   "outputs": [],
   "source": []
  },
  {
   "cell_type": "code",
   "execution_count": null,
   "id": "d9c85235-1b19-4d98-ae05-8d4b29d31e04",
   "metadata": {},
   "outputs": [],
   "source": []
  }
 ],
 "metadata": {
  "kernelspec": {
   "display_name": "Python 3 (ipykernel)",
   "language": "python",
   "name": "python3"
  },
  "language_info": {
   "codemirror_mode": {
    "name": "ipython",
    "version": 3
   },
   "file_extension": ".py",
   "mimetype": "text/x-python",
   "name": "python",
   "nbconvert_exporter": "python",
   "pygments_lexer": "ipython3",
   "version": "3.11.7"
  },
  "widgets": {
   "application/vnd.jupyter.widget-state+json": {
    "state": {},
    "version_major": 2,
    "version_minor": 0
   }
  }
 },
 "nbformat": 4,
 "nbformat_minor": 5
}
