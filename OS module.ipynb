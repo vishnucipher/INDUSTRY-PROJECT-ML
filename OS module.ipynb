{
 "cells": [
  {
   "cell_type": "markdown",
   "id": "d4ab6ad1-092d-45ec-a48d-84538c821358",
   "metadata": {},
   "source": [
    "### Python File I/O : Working with Directories by using OS module "
   ]
  },
  {
   "cell_type": "markdown",
   "id": "6b4af9cf-047e-4d52-a789-d0733fa0b28a",
   "metadata": {},
   "source": [
    "1. Know current working directory `os.getcwd()`\n",
    "2. create directory `os.mkdir('Name')`\n",
    "3. create sub directory in Name `os.mkdir('Name/newName')`\n",
    "4. To create mulitple directories like dir1 ,dir2,dir3, in specific directory `os.makedirs(maindir/dir1/dir2/dir3)`\n",
    "5. Remove directory `os.rmdir(name)`\n",
    "6. Remove all directories `os.removedirs('maindir/dir1/dir2/dir3')`\n",
    "7. Rename directory `os.rename(oldname,newname)`\n",
    "8. To know the contents of directory `os.listdir()` or `os.listdir('.')` .(dot) mean current working directory\n",
    "9. To know contents of directory including subdirectories `os.walk(path,topdown=True,onerror=None,followlinks=False)` most of the types we use default `os.walk(path)`\n",
    "10. How to run other programs form python program `os.system('command')` ex: `os.system('ls')`\n",
    "11. list of all python file in cwd `dir *.py`\n",
    "12. we open software with os.system('command ') `os.system('notepad')` run files `os.system('python3 logger_demo.py')`\\\n",
    "13. os.path.exist(filepath) `os.path.exists('/home/vishnu/Documents')`\n",
    "14. The os.path.getsize() function in Python returns the size of a file or directory in bytes. When you use os.path.getsize('/home/vishnu'), it attempts to get the size of the file or directory located at /home/vishnu.  `os.path.getsize('/home/vishnu')`"
   ]
  },
  {
   "cell_type": "code",
   "execution_count": 16,
   "id": "f450b8a6-4281-464f-b433-e7c9acf37e6a",
   "metadata": {},
   "outputs": [
    {
     "data": {
      "text/plain": [
       "'/home/vishnu/Desktop/ML/Python'"
      ]
     },
     "execution_count": 16,
     "metadata": {},
     "output_type": "execute_result"
    }
   ],
   "source": [
    "import os\n",
    "os.getcwd()"
   ]
  },
  {
   "cell_type": "code",
   "execution_count": 3,
   "id": "d5ba6b46",
   "metadata": {},
   "outputs": [
    {
     "data": {
      "text/plain": [
       "'hello/haii'"
      ]
     },
     "execution_count": 3,
     "metadata": {},
     "output_type": "execute_result"
    }
   ],
   "source": [
    "import os\n",
    "os.path.join('hello','haii')"
   ]
  },
  {
   "cell_type": "code",
   "execution_count": 5,
   "id": "c4961384-78ac-4383-a0b3-786421994564",
   "metadata": {},
   "outputs": [],
   "source": [
    "os.makedirs('newdirectory')"
   ]
  },
  {
   "cell_type": "code",
   "execution_count": 8,
   "id": "a31988fd",
   "metadata": {},
   "outputs": [],
   "source": [
    "os.makedirs(os.path.join('Hello','train.csv'))"
   ]
  },
  {
   "cell_type": "code",
   "execution_count": 18,
   "id": "c56a9a46-a2ab-4917-ab24-f44bab09aa75",
   "metadata": {},
   "outputs": [],
   "source": [
    "os.mkdir('newdirectory/subdirectory')"
   ]
  },
  {
   "cell_type": "code",
   "execution_count": 19,
   "id": "f82e6a4f-25ab-4a1f-8383-48aae8f2b8f0",
   "metadata": {},
   "outputs": [],
   "source": [
    "os.makedirs('maindir/dir1/dir2/dir3/dir4')"
   ]
  },
  {
   "cell_type": "code",
   "execution_count": 20,
   "id": "fe01dee1-6d53-4637-add0-70337b736935",
   "metadata": {},
   "outputs": [],
   "source": [
    "#removing the subdirectory  present in newdirectory\n",
    "os.rmdir('newdirectory/subdirectory')"
   ]
  },
  {
   "cell_type": "code",
   "execution_count": 21,
   "id": "663ff174-3b9a-499d-8323-ba2edf56b5ab",
   "metadata": {},
   "outputs": [],
   "source": [
    "#remvoing the all directory which are created ininit\n",
    "os.removedirs('maindir/dir1/dir2/dir3/dir4')"
   ]
  },
  {
   "cell_type": "code",
   "execution_count": 22,
   "id": "da8ba211-8dad-41df-a430-369a32ce9b17",
   "metadata": {},
   "outputs": [],
   "source": [
    "os.rename('newdirectory','renamed directory')"
   ]
  },
  {
   "cell_type": "code",
   "execution_count": 28,
   "id": "9c33606f-2796-4dab-b574-44dc18d1de7f",
   "metadata": {},
   "outputs": [
    {
     "data": {
      "text/plain": [
       "['.ipynb_checkpoints', 'example', 'test.txt']"
      ]
     },
     "execution_count": 28,
     "metadata": {},
     "output_type": "execute_result"
    }
   ],
   "source": [
    "os.listdir('renamed directory')"
   ]
  },
  {
   "cell_type": "code",
   "execution_count": 33,
   "id": "37e01255-37a8-4cc2-9049-8f9e0bdf019b",
   "metadata": {},
   "outputs": [
    {
     "name": "stdout",
     "output_type": "stream",
     "text": [
      "cwp .\n",
      "\n",
      "Directoreis ['.ipynb_checkpoints', 'renamed directory']\n",
      "\n",
      "Files ['diagram.draw', 'simple.html', 'oops.ipynb', 'logger_demo.py', 'log.txt', 'pyweb.py', 'OS module.ipynb']\n",
      "\n",
      "cwp ./.ipynb_checkpoints\n",
      "\n",
      "Directoreis []\n",
      "\n",
      "Files ['diagram-checkpoint.draw', 'oops-checkpoint.ipynb', 'OS module-checkpoint.ipynb', 'logger_demo-checkpoint.py', 'log-checkpoint.txt']\n",
      "\n",
      "cwp ./renamed directory\n",
      "\n",
      "Directoreis ['.ipynb_checkpoints', 'example']\n",
      "\n",
      "Files ['test.txt']\n",
      "\n",
      "cwp ./renamed directory/.ipynb_checkpoints\n",
      "\n",
      "Directoreis []\n",
      "\n",
      "Files []\n",
      "\n",
      "cwp ./renamed directory/example\n",
      "\n",
      "Directoreis ['.ipynb_checkpoints']\n",
      "\n",
      "Files ['2.txt', '1.txt']\n",
      "\n",
      "cwp ./renamed directory/example/.ipynb_checkpoints\n",
      "\n",
      "Directoreis []\n",
      "\n",
      "Files []\n",
      "\n"
     ]
    }
   ],
   "source": [
    "import os \n",
    "for dirpath,dirnames,filenames in os.walk('.'):\n",
    "    print('cwp',dirpath)\n",
    "    print()\n",
    "    print('Directoreis',dirnames)\n",
    "    print()\n",
    "    print('Files',filenames)\n",
    "    print()"
   ]
  },
  {
   "cell_type": "code",
   "execution_count": 34,
   "id": "81b0c5ff-bb45-4d3a-aa0b-d32cb3670476",
   "metadata": {},
   "outputs": [
    {
     "name": "stdout",
     "output_type": "stream",
     "text": [
      "cwp renamed directory\n",
      "\n",
      "Directoreis ['.ipynb_checkpoints', 'example']\n",
      "\n",
      "Files ['test.txt']\n",
      "\n",
      "cwp renamed directory/.ipynb_checkpoints\n",
      "\n",
      "Directoreis []\n",
      "\n",
      "Files []\n",
      "\n",
      "cwp renamed directory/example\n",
      "\n",
      "Directoreis ['.ipynb_checkpoints']\n",
      "\n",
      "Files ['2.txt', '1.txt']\n",
      "\n",
      "cwp renamed directory/example/.ipynb_checkpoints\n",
      "\n",
      "Directoreis []\n",
      "\n",
      "Files []\n",
      "\n"
     ]
    }
   ],
   "source": [
    "import os \n",
    "for dirpath,dirnames,filenames in os.walk('renamed directory'):\n",
    "    print('cwp',dirpath)\n",
    "    print()\n",
    "    print('Directoreis',dirnames)\n",
    "    print()\n",
    "    print('Files',filenames)\n",
    "    print()"
   ]
  },
  {
   "cell_type": "code",
   "execution_count": null,
   "id": "632e9bb0-6e64-4a58-a665-a1d3edc47d52",
   "metadata": {},
   "outputs": [],
   "source": []
  },
  {
   "cell_type": "raw",
   "id": "7ed5cc96-7c56-40ff-803a-f3d39f50f36c",
   "metadata": {},
   "source": [
    "import os \n",
    "for dirpath,dirnames,filenames in os.walk('/home/vishnu/Desktop/MAMIDI PANDU'):\n",
    "    print('cwp',dirpath)\n",
    "    print()\n",
    "    print('Directoreis',dirnames)\n",
    "    print()\n",
    "    print('Files',filenames)\n",
    "    print()"
   ]
  },
  {
   "cell_type": "code",
   "execution_count": 37,
   "id": "13e5e5c8-6d42-44b7-b6bb-2f8eeafdf06e",
   "metadata": {},
   "outputs": [
    {
     "name": "stdout",
     "output_type": "stream",
     "text": [
      "diagram.draw\n",
      "logger_demo.py\n",
      "log.txt\n",
      "oops.ipynb\n",
      "OS module.ipynb\n",
      "pyweb.py\n",
      "renamed directory\n",
      "simple.html\n"
     ]
    },
    {
     "data": {
      "text/plain": [
       "0"
      ]
     },
     "execution_count": 37,
     "metadata": {},
     "output_type": "execute_result"
    }
   ],
   "source": [
    "os.system('ls')"
   ]
  },
  {
   "cell_type": "code",
   "execution_count": 41,
   "id": "6d039522-7ad2-4339-95d6-2e61d9330a52",
   "metadata": {},
   "outputs": [
    {
     "name": "stdout",
     "output_type": "stream",
     "text": [
      "logger_demo.py\tpyweb.py\n"
     ]
    },
    {
     "data": {
      "text/plain": [
       "0"
      ]
     },
     "execution_count": 41,
     "metadata": {},
     "output_type": "execute_result"
    }
   ],
   "source": [
    "os.system('dir *.py') # list out only pyton files in cwd"
   ]
  },
  {
   "cell_type": "code",
   "execution_count": 43,
   "id": "e6f6ba26-7051-4f3f-97a6-69cf4de365d9",
   "metadata": {},
   "outputs": [
    {
     "name": "stderr",
     "output_type": "stream",
     "text": [
      "0094:fixme:hid:handle_IRP_MN_QUERY_ID Unhandled type 00000005\n",
      "0094:fixme:hid:handle_IRP_MN_QUERY_ID Unhandled type 00000005\n",
      "0094:fixme:hid:handle_IRP_MN_QUERY_ID Unhandled type 00000005\n",
      "0094:fixme:hid:handle_IRP_MN_QUERY_ID Unhandled type 00000005\n",
      "003c:fixme:service:scmdatabase_autostart_services Auto-start service L\"edgeupdate\" failed to start: 2\n"
     ]
    },
    {
     "data": {
      "text/plain": [
       "0"
      ]
     },
     "execution_count": 43,
     "metadata": {},
     "output_type": "execute_result"
    }
   ],
   "source": [
    "os.system('notepad')"
   ]
  },
  {
   "cell_type": "code",
   "execution_count": 44,
   "id": "d7b68f49-08b0-4bbe-ad22-167941208a3d",
   "metadata": {},
   "outputs": [
    {
     "name": "stdout",
     "output_type": "stream",
     "text": [
      "logging module demo\n"
     ]
    },
    {
     "name": "stderr",
     "output_type": "stream",
     "text": [
      "18/08/2024 02:35:53 PM:ERROR:error information\n",
      "18/08/2024 02:35:53 PM:CRITICAL:critical information\n",
      "18/08/2024 02:35:53 PM:WARNING:warning information\n"
     ]
    },
    {
     "data": {
      "text/plain": [
       "0"
      ]
     },
     "execution_count": 44,
     "metadata": {},
     "output_type": "execute_result"
    }
   ],
   "source": [
    "os.system('python3 logger_demo.py')"
   ]
  },
  {
   "cell_type": "code",
   "execution_count": 47,
   "id": "df1630bb-3710-460d-801c-90943f857d87",
   "metadata": {},
   "outputs": [
    {
     "name": "stderr",
     "output_type": "stream",
     "text": [
      "sh: 1: cls: not found\n"
     ]
    },
    {
     "data": {
      "text/plain": [
       "32512"
      ]
     },
     "execution_count": 47,
     "metadata": {},
     "output_type": "execute_result"
    }
   ],
   "source": [
    "os.system('cls')"
   ]
  },
  {
   "cell_type": "code",
   "execution_count": null,
   "id": "10611601-d8be-4b29-b78a-c006664ef2ee",
   "metadata": {},
   "outputs": [],
   "source": []
  },
  {
   "cell_type": "code",
   "execution_count": 48,
   "id": "11106aaf-4a4f-4dbc-9705-8c0db994788c",
   "metadata": {},
   "outputs": [
    {
     "data": {
      "text/plain": [
       "True"
      ]
     },
     "execution_count": 48,
     "metadata": {},
     "output_type": "execute_result"
    }
   ],
   "source": [
    "os.path.exists('/home/vishnu/Documents')"
   ]
  },
  {
   "cell_type": "code",
   "execution_count": 49,
   "id": "9736a020-8946-484f-bf16-5a84902260eb",
   "metadata": {},
   "outputs": [
    {
     "data": {
      "text/plain": [
       "4096"
      ]
     },
     "execution_count": 49,
     "metadata": {},
     "output_type": "execute_result"
    }
   ],
   "source": [
    "os.path.getsize('/home/vishnu/Documents')"
   ]
  },
  {
   "cell_type": "code",
   "execution_count": 52,
   "id": "93a080e9-1ba9-440f-a9dd-48dbb9fe97d7",
   "metadata": {},
   "outputs": [
    {
     "data": {
      "text/plain": [
       "4096"
      ]
     },
     "execution_count": 52,
     "metadata": {},
     "output_type": "execute_result"
    }
   ],
   "source": [
    "os.path.getsize('/home/vishnu')"
   ]
  },
  {
   "cell_type": "code",
   "execution_count": null,
   "id": "99fff661-a8e1-434e-a46c-c351b4657d82",
   "metadata": {},
   "outputs": [],
   "source": []
  },
  {
   "cell_type": "code",
   "execution_count": null,
   "id": "30434f41-133b-4329-8b49-b8095bef1732",
   "metadata": {},
   "outputs": [],
   "source": []
  },
  {
   "cell_type": "code",
   "execution_count": null,
   "id": "ea65b2bd-f0b3-49f4-afab-e1859829d3bf",
   "metadata": {},
   "outputs": [],
   "source": []
  },
  {
   "cell_type": "code",
   "execution_count": null,
   "id": "b2b21f27-8561-41d0-a2ec-9c61f37d8728",
   "metadata": {},
   "outputs": [],
   "source": []
  },
  {
   "cell_type": "code",
   "execution_count": null,
   "id": "7f712c15-1e29-4bd4-97fe-771f17df3024",
   "metadata": {},
   "outputs": [],
   "source": []
  },
  {
   "cell_type": "code",
   "execution_count": null,
   "id": "28d656de-e623-47c3-af41-848eda65e382",
   "metadata": {},
   "outputs": [],
   "source": []
  }
 ],
 "metadata": {
  "kernelspec": {
   "display_name": "Python 3 (ipykernel)",
   "language": "python",
   "name": "python3"
  },
  "language_info": {
   "codemirror_mode": {
    "name": "ipython",
    "version": 3
   },
   "file_extension": ".py",
   "mimetype": "text/x-python",
   "name": "python",
   "nbconvert_exporter": "python",
   "pygments_lexer": "ipython3",
   "version": "3.11.7"
  }
 },
 "nbformat": 4,
 "nbformat_minor": 5
}
