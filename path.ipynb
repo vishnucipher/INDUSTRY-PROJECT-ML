{
 "cells": [
  {
   "cell_type": "code",
   "execution_count": 7,
   "id": "7e4803c2-9361-45ba-b802-23d2a47da0df",
   "metadata": {},
   "outputs": [],
   "source": [
    "from pathlib import Path"
   ]
  },
  {
   "cell_type": "markdown",
   "id": "12f9a8c6-71d2-4a7e-988c-ea70875928cb",
   "metadata": {},
   "source": [
    "Here’s a simple example to help you understand the basics of the pathlib module and how it works with file paths. I’ll walk you through creating, reading, writing, and manipulating paths using the Path object."
   ]
  },
  {
   "cell_type": "markdown",
   "id": "9d330931-667c-4e61-8a4a-57065f478748",
   "metadata": {},
   "source": [
    "#### Example Overview\n",
    "Suppose you have a project where you need to:\n",
    "\n",
    "Create a directory called data.\n",
    "\n",
    "Inside data, create a text file called example.txt.\n",
    "\n",
    "Write some text to example.txt.\n",
    "\n",
    "Read and display the contents of example.txt.\n",
    "\n",
    "Rename example.txt to renamed.txt.\n",
    "\n",
    "Delete the renamed.txt file."
   ]
  },
  {
   "cell_type": "code",
   "execution_count": null,
   "id": "4e2af727-1c45-4936-8e9a-d8d0a95b553f",
   "metadata": {},
   "outputs": [],
   "source": [
    "from pathlib import Path\n",
    "\n",
    "# 1. Create a Path object for the directory 'data'\n",
    "data_dir = Path('data')\n",
    "\n",
    "# 2. Create the directory if it doesn't exist\n",
    "data_dir.mkdir(exist_ok=True)\n",
    "\n",
    "# 3. Create a Path object for the file 'example.txt' inside 'data'\n",
    "file_path = data_dir / 'example.txt'\n",
    "\n",
    "# 4. Write some text to 'example.txt'\n",
    "file_path.write_text(\"Hello, this is a test file.\")\n",
    "\n",
    "# 5. Read and display the contents of 'example.txt'\n",
    "content = file_path.read_text()\n",
    "print(\"File Content:\", content)\n",
    "\n",
    "# 6. Rename 'example.txt' to 'renamed.txt'\n",
    "new_file_path = data_dir / 'renamed.txt'\n",
    "file_path.rename(new_file_path)\n",
    "\n",
    "# 7. Check if the original file exists (it should not)\n",
    "print(f\"Does 'example.txt' still exist? {file_path.exists()}\")\n",
    "\n",
    "# 8. Check if the renamed file exists\n",
    "print(f\"Does 'renamed.txt' exist? {new_file_path.exists()}\")\n",
    "\n",
    "# 9. Delete the 'renamed.txt' file\n",
    "new_file_path.unlink()\n",
    "\n",
    "# 10. Verify that the file has been deleted\n",
    "print(f\"Does 'renamed.txt' still exist? {new_file_path.exists()}\")\n"
   ]
  },
  {
   "cell_type": "code",
   "execution_count": 13,
   "id": "d144f08a-eab8-4023-8767-23180f9bee34",
   "metadata": {},
   "outputs": [
    {
     "name": "stdout",
     "output_type": "stream",
     "text": [
      "File content Hello this the example text file text init\n",
      "Does 'example.txt' still exist?False\n"
     ]
    }
   ],
   "source": [
    "\n",
    "\n",
    "\n",
    "\n",
    "\n",
    "\n",
    "\n",
    "\n",
    "\n",
    "# 6. Rename 'example.txt' to 'renamed.txt'\n",
    "new_file_path = dire / 'renamed.txt'\n",
    "file_path.rename(new_file_path)\n",
    "\n",
    "# 9. Delete the 'renamed.txt' file\n",
    "new_file_path.unlink()\n",
    "\n",
    "# check if the original file exists (it should not)\n",
    "print(f\"Does 'example.txt' still exist?{new_file_path.exists()}\")\n"
   ]
  },
  {
   "cell_type": "code",
   "execution_count": 14,
   "id": "8bd736c3-fdce-4e67-966f-1b51c5be28c9",
   "metadata": {},
   "outputs": [],
   "source": [
    "dire = Path('data') # creating the new directory which is called the data ."
   ]
  },
  {
   "cell_type": "code",
   "execution_count": 15,
   "id": "a60dcd7c-d1a8-4d79-80c9-6dd986e8c22e",
   "metadata": {},
   "outputs": [],
   "source": [
    "dire.mkdir(exist_ok=True) # create a directory if it doesn't exit"
   ]
  },
  {
   "cell_type": "code",
   "execution_count": 16,
   "id": "56b1d623-1565-4935-9a54-cf32c826c9ad",
   "metadata": {},
   "outputs": [],
   "source": [
    "file_path = dire/'example.txt'# creating txt file inthat dire"
   ]
  },
  {
   "cell_type": "code",
   "execution_count": 17,
   "id": "55f928ad-6cbf-431a-bad6-fc50d64acddc",
   "metadata": {},
   "outputs": [
    {
     "data": {
      "text/plain": [
       "42"
      ]
     },
     "execution_count": 17,
     "metadata": {},
     "output_type": "execute_result"
    }
   ],
   "source": [
    "file_path.write_text('Hello this the example text file text init') # writing text into the example.txt file"
   ]
  },
  {
   "cell_type": "code",
   "execution_count": 19,
   "id": "a86c2650-a963-4b7e-ac84-202e472a7572",
   "metadata": {},
   "outputs": [
    {
     "name": "stdout",
     "output_type": "stream",
     "text": [
      "File content: Hello this the example text file text init\n"
     ]
    }
   ],
   "source": [
    "content = file_path.read_text()\n",
    "print('File content:',content)\n"
   ]
  },
  {
   "cell_type": "code",
   "execution_count": null,
   "id": "7ff87eba-36bb-420b-9c92-e3d9836156d5",
   "metadata": {},
   "outputs": [],
   "source": []
  },
  {
   "cell_type": "code",
   "execution_count": null,
   "id": "cbec9212-4d81-4965-9e5d-e4bf5929df6d",
   "metadata": {},
   "outputs": [],
   "source": []
  }
 ],
 "metadata": {
  "kernelspec": {
   "display_name": "Python 3 (ipykernel)",
   "language": "python",
   "name": "python3"
  },
  "language_info": {
   "codemirror_mode": {
    "name": "ipython",
    "version": 3
   },
   "file_extension": ".py",
   "mimetype": "text/x-python",
   "name": "python",
   "nbconvert_exporter": "python",
   "pygments_lexer": "ipython3",
   "version": "3.11.7"
  }
 },
 "nbformat": 4,
 "nbformat_minor": 5
}
